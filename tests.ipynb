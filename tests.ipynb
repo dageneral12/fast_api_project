{
    "cells": [
        {
            "cell_type": "code",
            "execution_count": 2,
            "source": [
                "\n",
                "\n",
                "import os \n",
                "print(os.getcwd())"
            ],
            "outputs": [
                {
                    "output_type": "stream",
                    "name": "stdout",
                    "text": [
                        "/Users/apple/Documents/file_sorter\n"
                    ]
                }
            ],
            "metadata": {}
        },
        {
            "cell_type": "code",
            "execution_count": 5,
            "source": [
                "! source venv2/bin/activate"
            ],
            "outputs": [],
            "metadata": {}
        },
        {
            "cell_type": "code",
            "execution_count": 7,
            "source": [
                "!  pip3 install PyPDF2"
            ],
            "outputs": [
                {
                    "output_type": "stream",
                    "name": "stdout",
                    "text": [
                        "Collecting PyPDF2\n",
                        "  Using cached PyPDF2-1.26.0.tar.gz (77 kB)\n",
                        "Building wheels for collected packages: PyPDF2\n",
                        "  Building wheel for PyPDF2 (setup.py) ... \u001b[?25ldone\n",
                        "\u001b[?25h  Created wheel for PyPDF2: filename=PyPDF2-1.26.0-py3-none-any.whl size=61085 sha256=ca0da295aeabb89448f9246003119aa85a916fad95738865b6fde452f94847ff\n",
                        "  Stored in directory: /Users/apple/Library/Caches/pip/wheels/d9/dc/ec/72da68331f30074b9950c1737c23cb8a67484e61498bc9713d\n",
                        "Successfully built PyPDF2\n",
                        "Installing collected packages: PyPDF2\n",
                        "Successfully installed PyPDF2-1.26.0\n",
                        "\u001b[33mWARNING: You are using pip version 21.0.1; however, version 21.2.4 is available.\n",
                        "You should consider upgrading via the '/usr/local/opt/python@3.9/bin/python3.9 -m pip install --upgrade pip' command.\u001b[0m\n"
                    ]
                }
            ],
            "metadata": {}
        },
        {
            "cell_type": "code",
            "execution_count": 8,
            "source": [
                "import PyPDF2 as pdf"
            ],
            "outputs": [
                {
                    "output_type": "error",
                    "ename": "ModuleNotFoundError",
                    "evalue": "No module named 'PyPDF2'",
                    "traceback": [
                        "\u001b[0;31m---------------------------------------------------------------------------\u001b[0m",
                        "\u001b[0;31mModuleNotFoundError\u001b[0m                       Traceback (most recent call last)",
                        "\u001b[0;32m/var/folders/89/hfkdy8ns0bz38qfgyfc25zk40000gn/T/ipykernel_33038/192689330.py\u001b[0m in \u001b[0;36m<module>\u001b[0;34m\u001b[0m\n\u001b[0;32m----> 1\u001b[0;31m \u001b[0;32mimport\u001b[0m \u001b[0mPyPDF2\u001b[0m \u001b[0;32mas\u001b[0m \u001b[0mpdf\u001b[0m\u001b[0;34m\u001b[0m\u001b[0;34m\u001b[0m\u001b[0m\n\u001b[0m",
                        "\u001b[0;31mModuleNotFoundError\u001b[0m: No module named 'PyPDF2'"
                    ]
                }
            ],
            "metadata": {}
        },
        {
            "cell_type": "code",
            "execution_count": null,
            "source": [
                "file = open('nlp.pdf', 'rb')\n",
                "pdf_reader = pdf.PdfFileReader(file)\n",
                "\n",
                "help(pdf_reader)\n",
                "\n",
                "pdf_reader.getIsEncrypted()\n",
                "pdf_reader.GetNumPages()\n",
                "\n",
                "\n",
                "#extracting p1 \n",
                "\n",
                "page1 = pdf_reader.getPage(0)\n",
                "\n",
                "#Extracts data from a page \n",
                "page1.extractText()"
            ],
            "outputs": [],
            "metadata": {}
        },
        {
            "cell_type": "code",
            "execution_count": null,
            "source": [],
            "outputs": [],
            "metadata": {}
        }
    ],
    "metadata": {
        "orig_nbformat": 4,
        "language_info": {
            "name": "python",
            "version": "3.9.2",
            "mimetype": "text/x-python",
            "codemirror_mode": {
                "name": "ipython",
                "version": 3
            },
            "pygments_lexer": "ipython3",
            "nbconvert_exporter": "python",
            "file_extension": ".py"
        },
        "kernelspec": {
            "name": "python3",
            "display_name": "Python 3.9.2 64-bit"
        },
        "interpreter": {
            "hash": "aee8b7b246df8f9039afb4144a1f6fd8d2ca17a180786b69acc140d282b71a49"
        }
    },
    "nbformat": 4,
    "nbformat_minor": 2
}